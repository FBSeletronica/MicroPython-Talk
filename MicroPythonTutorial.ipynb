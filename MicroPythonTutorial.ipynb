{
 "cells": [
  {
   "cell_type": "markdown",
   "metadata": {
    "slideshow": {
     "slide_type": "slide"
    }
   },
   "source": [
    "# Primeiros passos com MicroPython e ESP8266\n",
    "\n",
    "Por Fábio Souza https://about.me/fabio.souza\n",
    "\n",
    "[Acesse os de introdução SLIDES](https://docs.google.com/presentation/d/1G-glUcrQwYLMisaA1JuDkSy9KEdgCUqQ/edit#slide=id.p26)\n",
    "\n",
    "\n",
    "\n",
    "## Instalação do Firmware no ESP8266\n",
    "\n",
    "\n",
    "- Acesse a página de Download do [Firmware do MicroPython](https://micropython.org/download#esp8266)\n",
    "- Baixe a ultima versão, no meu caso foi: [esp8266-20190529-v1.11.bin](https://micropython.org/resources/firmware/esp8266-20190529-v1.11.bin)\n",
    "- Intruções para gravar o Firmware: [Deploying the firmware](http://docs.micropython.org/en/latest/esp8266/tutorial/intro.html#deploying-the-firmware)\n",
    "\n",
    "\n",
    "### Linux\n",
    "\n",
    "Instalar o epstool: `pip install esptool`\n",
    "\n",
    "conectar a placa no computador através da USB\n",
    "\n",
    "Verificar em qual porta está conectada: `ls /dev/tty*` \n",
    "\n",
    "Apagar o que estiver carregado na placa: ` esptool.py --port /dev/ttyUSB0 erase_flash`\n",
    "\n",
    "Gravar o Firmware do microPython na flash: `esptool.py --port /dev/ttyUSB0 --baud 460800 write_flash --flash_size=detect 0 esp8266-20190529-v1.11.bin`\n",
    "\n",
    "Abra um terminal serial, por exemplo o Picocom: `picocom --baud 115200 /dev/ttyUSB0`\n",
    "\n",
    "digite: `print(\"Hello world!\")`\n",
    "\n",
    "\n",
    "Pronto a sua placa já está com o Micropython!\n",
    "\n"
   ]
  },
  {
   "cell_type": "markdown",
   "metadata": {},
   "source": [
    "### Windows\n",
    "\n",
    "[Primeiros passos com MicroPython no ESP8266](https://www.embarcados.com.br/micropython-no-esp8266)\n",
    "\n"
   ]
  },
  {
   "cell_type": "markdown",
   "metadata": {},
   "source": [
    "# Primeiros passos com MicroPython no ESP8266 usando o Jupyter"
   ]
  },
  {
   "cell_type": "markdown",
   "metadata": {},
   "source": [
    "## Comunicação serial - Configura e conecta\n",
    "\n",
    "- baudrate 115200 bps\n",
    "- porta tty*"
   ]
  },
  {
   "cell_type": "code",
   "execution_count": 3,
   "metadata": {
    "scrolled": false
   },
   "outputs": [
    {
     "name": "stdout",
     "output_type": "stream",
     "text": [
      "serial exception on close write failed: [Errno 5] Input/output error\n",
      "\u001b[34mConnecting to --port=/dev/ttyUSB1 --baud=115200 \u001b[0m\n",
      "\u001b[34mReady.\n",
      "\u001b[0m"
     ]
    }
   ],
   "source": [
    "%serialconnect to --port=/dev/ttyUSB1 --baud=115200"
   ]
  },
  {
   "cell_type": "markdown",
   "metadata": {},
   "source": [
    "### Hello World"
   ]
  },
  {
   "cell_type": "code",
   "execution_count": 2,
   "metadata": {
    "scrolled": true
   },
   "outputs": [
    {
     "name": "stdout",
     "output_type": "stream",
     "text": [
      "hello esp8266\r\n"
     ]
    }
   ],
   "source": [
    "print ('hello esp8266')"
   ]
  },
  {
   "cell_type": "markdown",
   "metadata": {},
   "source": [
    "### GPIO"
   ]
  },
  {
   "cell_type": "code",
   "execution_count": 3,
   "metadata": {},
   "outputs": [],
   "source": [
    "from machine import Pin"
   ]
  },
  {
   "cell_type": "markdown",
   "metadata": {},
   "source": [
    "### Digital Output"
   ]
  },
  {
   "cell_type": "code",
   "execution_count": 4,
   "metadata": {},
   "outputs": [],
   "source": [
    "led = Pin(2, Pin.OUT)"
   ]
  },
  {
   "cell_type": "code",
   "execution_count": 5,
   "metadata": {
    "scrolled": true
   },
   "outputs": [],
   "source": [
    "led.value(1)"
   ]
  },
  {
   "cell_type": "code",
   "execution_count": 6,
   "metadata": {},
   "outputs": [],
   "source": [
    "led.value(0)"
   ]
  },
  {
   "cell_type": "code",
   "execution_count": 7,
   "metadata": {},
   "outputs": [],
   "source": [
    "led.value(1)"
   ]
  },
  {
   "cell_type": "code",
   "execution_count": 8,
   "metadata": {},
   "outputs": [],
   "source": [
    "led.off()"
   ]
  },
  {
   "cell_type": "code",
   "execution_count": 9,
   "metadata": {},
   "outputs": [],
   "source": [
    "led.on()"
   ]
  },
  {
   "cell_type": "markdown",
   "metadata": {},
   "source": [
    "### Blinkiing the LED"
   ]
  },
  {
   "cell_type": "code",
   "execution_count": 10,
   "metadata": {},
   "outputs": [],
   "source": [
    "from time import sleep"
   ]
  },
  {
   "cell_type": "code",
   "execution_count": 11,
   "metadata": {},
   "outputs": [],
   "source": [
    "for i in range(10):\n",
    "    led.off()\n",
    "    sleep(0.2)\n",
    "    led.on()\n",
    "    sleep(0.2)"
   ]
  },
  {
   "cell_type": "markdown",
   "metadata": {},
   "source": [
    "### Buzzer"
   ]
  },
  {
   "cell_type": "code",
   "execution_count": 14,
   "metadata": {},
   "outputs": [],
   "source": [
    "buzzer = Pin(15, Pin.OUT)\n",
    "buzzer.value(1)\n",
    "sleep(0.2)\n",
    "buzzer.value(0)\n"
   ]
  },
  {
   "cell_type": "markdown",
   "metadata": {},
   "source": [
    "### Digital Input"
   ]
  },
  {
   "cell_type": "code",
   "execution_count": 15,
   "metadata": {},
   "outputs": [
    {
     "name": "stdout",
     "output_type": "stream",
     "text": [
      "1\r\n"
     ]
    }
   ],
   "source": [
    "button = Pin(13, Pin.IN, Pin.PULL_UP)\n",
    "\n",
    "# Read button state:\n",
    "print(button.value())"
   ]
  },
  {
   "cell_type": "code",
   "execution_count": 16,
   "metadata": {},
   "outputs": [
    {
     "name": "stdout",
     "output_type": "stream",
     "text": [
      "1\r\n"
     ]
    }
   ],
   "source": [
    "print (button.value())\n",
    "if button.value() == 0:\n",
    "    led.on()\n",
    "else:\n",
    "    led.off()"
   ]
  },
  {
   "cell_type": "markdown",
   "metadata": {},
   "source": [
    "## PWM (pulse Width Modulation)\n",
    "\n",
    "![PWM](https://exploreembedded.com/wiki/images/5/54/0_LPC1768_PWM.gif){:class=\"img-responsive\"}\n"
   ]
  },
  {
   "cell_type": "code",
   "execution_count": 17,
   "metadata": {},
   "outputs": [],
   "source": [
    "from machine import Pin, PWM"
   ]
  },
  {
   "cell_type": "code",
   "execution_count": 18,
   "metadata": {},
   "outputs": [],
   "source": [
    "pwm0 = PWM(Pin(2)) "
   ]
  },
  {
   "cell_type": "code",
   "execution_count": 19,
   "metadata": {},
   "outputs": [
    {
     "name": "stdout",
     "output_type": "stream",
     "text": [
      "500\r\n"
     ]
    }
   ],
   "source": [
    "print (pwm0.freq())"
   ]
  },
  {
   "cell_type": "code",
   "execution_count": 20,
   "metadata": {},
   "outputs": [],
   "source": [
    "pwm0.freq(1000)"
   ]
  },
  {
   "cell_type": "code",
   "execution_count": 21,
   "metadata": {},
   "outputs": [
    {
     "name": "stdout",
     "output_type": "stream",
     "text": [
      "0\r\n"
     ]
    }
   ],
   "source": [
    "print (pwm0.duty())"
   ]
  },
  {
   "cell_type": "code",
   "execution_count": 22,
   "metadata": {},
   "outputs": [],
   "source": [
    "pwm0.duty(600)"
   ]
  },
  {
   "cell_type": "code",
   "execution_count": 23,
   "metadata": {},
   "outputs": [],
   "source": [
    "pwm0.deinit() "
   ]
  },
  {
   "cell_type": "code",
   "execution_count": 24,
   "metadata": {},
   "outputs": [],
   "source": [
    "pwm2 = PWM(Pin(2), freq=500, duty=900)"
   ]
  },
  {
   "cell_type": "code",
   "execution_count": 25,
   "metadata": {},
   "outputs": [
    {
     "name": "stdout",
     "output_type": "stream",
     "text": [
      "."
     ]
    }
   ],
   "source": [
    "from machine import Pin, PWM\n",
    "pwm0 = PWM(Pin(2), freq=1000, duty=0)\n",
    "for i in range (0,1023,20):\n",
    "    pwm0.duty(i)\n",
    "    sleep(0.1)\n",
    "    pwm0.duty(0)"
   ]
  },
  {
   "cell_type": "code",
   "execution_count": 26,
   "metadata": {},
   "outputs": [],
   "source": [
    "pwm0.deinit()"
   ]
  },
  {
   "cell_type": "code",
   "execution_count": 29,
   "metadata": {},
   "outputs": [],
   "source": [
    "from machine import Pin, PWM\n",
    "import time\n",
    "tempo = 2\n",
    "tones = {\n",
    "    'c': 262,\n",
    "    'd': 294,\n",
    "    'e': 330,\n",
    "    'f': 349,\n",
    "    'g': 392,\n",
    "    'a': 440,\n",
    "    'b': 494,\n",
    "    'C': 523,\n",
    "    ' ': 0,\n",
    "}\n",
    "beeper = PWM(Pin(15, Pin.OUT), freq=440, duty=512)\n",
    "melody = 'cdefgabC'\n",
    "rhythm = [16, 16, 16, 16, 16, 16, 16, 16]\n",
    "\n",
    "for tone, length in zip(melody, rhythm):\n",
    "    beeper.freq(tones[tone])\n",
    "    time.sleep(tempo/length)\n",
    "beeper.deinit()"
   ]
  },
  {
   "cell_type": "markdown",
   "metadata": {},
   "source": [
    "## Conversor Analógico para Digital"
   ]
  },
  {
   "cell_type": "code",
   "execution_count": 32,
   "metadata": {},
   "outputs": [],
   "source": [
    "from machine import ADC"
   ]
  },
  {
   "cell_type": "code",
   "execution_count": 33,
   "metadata": {},
   "outputs": [],
   "source": [
    "adc0 = ADC(0)"
   ]
  },
  {
   "cell_type": "code",
   "execution_count": 35,
   "metadata": {},
   "outputs": [
    {
     "name": "stdout",
     "output_type": "stream",
     "text": [
      "adc0= 624\r\n"
     ]
    }
   ],
   "source": [
    "print(\"adc0=\",adc0.read())    #read value, 0-1024"
   ]
  },
  {
   "cell_type": "code",
   "execution_count": 36,
   "metadata": {},
   "outputs": [
    {
     "name": "stdout",
     "output_type": "stream",
     "text": [
      "adc0= 446\n",
      "adc0= 448\n",
      "adc0= 448\n",
      "adc0= 447\n",
      "adc0= 446\n",
      "adc0= 637\n",
      "adc0= 629\n",
      "adc0= 716\n",
      "adc0= 675\n",
      "adc0= 450\n"
     ]
    }
   ],
   "source": [
    "for i in range(10):\n",
    "    print(\"adc0=\",adc0.read())    #read value, 0-1024\n",
    "    sleep(0.5)"
   ]
  },
  {
   "cell_type": "markdown",
   "metadata": {},
   "source": [
    "## Comunicação I2C"
   ]
  },
  {
   "cell_type": "code",
   "execution_count": 37,
   "metadata": {},
   "outputs": [],
   "source": [
    "from machine import I2C"
   ]
  },
  {
   "cell_type": "code",
   "execution_count": 38,
   "metadata": {},
   "outputs": [],
   "source": [
    "i2c = I2C(scl=Pin(5), sda=Pin(4), freq=100000)"
   ]
  },
  {
   "cell_type": "code",
   "execution_count": 39,
   "metadata": {},
   "outputs": [
    {
     "name": "stdout",
     "output_type": "stream",
     "text": [
      "[56, 60]\r\n"
     ]
    }
   ],
   "source": [
    "print (i2c.scan())"
   ]
  },
  {
   "cell_type": "code",
   "execution_count": 40,
   "metadata": {},
   "outputs": [],
   "source": [
    "i2c.writeto(0x38, bytes(0xFF))                  #Start PCF8574"
   ]
  },
  {
   "cell_type": "code",
   "execution_count": 45,
   "metadata": {},
   "outputs": [],
   "source": [
    "buf = bytearray(1)\n",
    "buf[0] = 255\n",
    "i2c.writeto(0x38,buf)\n",
    "buf[0] = 0xff &~(1<<0|1<<1|1<<2|1<<3)\n",
    "i2c.writeto(0x38,buf)\n",
    "pos_led = 0\n",
    "buf[0] = 0xF0|(1<<pos_led)\n",
    "i2c.writeto(0x38,buf)"
   ]
  },
  {
   "cell_type": "code",
   "execution_count": 50,
   "metadata": {},
   "outputs": [
    {
     "name": "stdout",
     "output_type": "stream",
     "text": [
      " 0X0B\r\n"
     ]
    }
   ],
   "source": [
    "buf = i2c.readfrom(0x38,1) \n",
    "z = buf[0]\n",
    "z=z>>4\n",
    "print(\"%#5.2X\"% (z))\n"
   ]
  },
  {
   "cell_type": "code",
   "execution_count": 51,
   "metadata": {},
   "outputs": [
    {
     "name": "stdout",
     "output_type": "stream",
     "text": [
      "Tecla:2\r\n"
     ]
    }
   ],
   "source": [
    "if z == 0x07:\n",
    "    print('Tecla:1')\n",
    "elif z == 0x0B:\n",
    "    print('Tecla:2')\n",
    "elif z == 0X0D:\n",
    "    print('Tecla:3')\n",
    "elif z == 0x0E:\n",
    "    print('Tecla:4')"
   ]
  },
  {
   "cell_type": "markdown",
   "metadata": {},
   "source": [
    "## Display OLED 128x64 0.96\" I2C\n",
    "\n",
    "![OLED](https://uploads.filipeflop.com/2017/07/5LE19.png)"
   ]
  },
  {
   "cell_type": "code",
   "execution_count": 52,
   "metadata": {},
   "outputs": [],
   "source": [
    "import ssd1306"
   ]
  },
  {
   "cell_type": "code",
   "execution_count": 53,
   "metadata": {},
   "outputs": [],
   "source": [
    "i2c = I2C(scl=Pin(5), sda=Pin(4), freq=100000)  #Init i2c"
   ]
  },
  {
   "cell_type": "code",
   "execution_count": 54,
   "metadata": {},
   "outputs": [],
   "source": [
    "oled =ssd1306.SSD1306_I2C(128,64,i2c,0x3c)"
   ]
  },
  {
   "cell_type": "code",
   "execution_count": 55,
   "metadata": {},
   "outputs": [],
   "source": [
    "oled.fill(0)\n",
    "oled.show()"
   ]
  },
  {
   "cell_type": "code",
   "execution_count": 56,
   "metadata": {},
   "outputs": [],
   "source": [
    "oled.text(\"Hello World\",5,5)\n",
    "oled.show()"
   ]
  },
  {
   "cell_type": "code",
   "execution_count": 57,
   "metadata": {},
   "outputs": [],
   "source": [
    "oled.invert(True)  #True or False"
   ]
  },
  {
   "cell_type": "code",
   "execution_count": 58,
   "metadata": {},
   "outputs": [],
   "source": [
    "oled.invert(False)"
   ]
  },
  {
   "cell_type": "code",
   "execution_count": 59,
   "metadata": {},
   "outputs": [],
   "source": [
    "oled.rect(0, 0, 128, 20, 1)\n",
    "oled.show()"
   ]
  },
  {
   "cell_type": "code",
   "execution_count": 60,
   "metadata": {},
   "outputs": [],
   "source": [
    "ICON = [\n",
    "    [ 0, 0, 0, 0, 0, 0, 0, 0, 0],\n",
    "    [ 0, 1, 1, 0, 0, 0, 1, 1, 0],\n",
    "    [ 1, 1, 1, 1, 0, 1, 1, 1, 1],\n",
    "    [ 1, 1, 1, 1, 1, 1, 1, 1, 1],\n",
    "    [ 1, 1, 1, 1, 1, 1, 1, 1, 1],\n",
    "    [ 0, 1, 1, 1, 1, 1, 1, 1, 0],\n",
    "    [ 0, 0, 1, 1, 1, 1, 1, 0, 0],\n",
    "    [ 0, 0, 0, 1, 1, 1, 0, 0, 0],\n",
    "    [ 0, 0, 0, 0, 1, 0, 0, 0, 0],\n",
    "]\n",
    "\n",
    "for y, row in enumerate(ICON):\n",
    "    for x, c in enumerate(row):\n",
    "        oled.pixel(x+100, y+5, c)\n",
    "\n",
    "oled.show()"
   ]
  },
  {
   "cell_type": "code",
   "execution_count": 61,
   "metadata": {},
   "outputs": [],
   "source": [
    "oled.fill(0)\n",
    "oled.show()"
   ]
  },
  {
   "cell_type": "markdown",
   "metadata": {},
   "source": [
    "## DHT11\n",
    "\n",
    "O DHT11 é um sensor de temperatura e umidade que permite fazer leituras de temperaturas entre 0 a 50 Celsius e umidade entre 20 a 90%.\n",
    "\n",
    "![DHT11](https://uploads.filipeflop.com/2017/07/Dht11.jpg)\n"
   ]
  },
  {
   "cell_type": "code",
   "execution_count": 62,
   "metadata": {},
   "outputs": [],
   "source": [
    "from dht import DHT11"
   ]
  },
  {
   "cell_type": "code",
   "execution_count": 63,
   "metadata": {},
   "outputs": [],
   "source": [
    "d = DHT11(Pin(2))"
   ]
  },
  {
   "cell_type": "code",
   "execution_count": 64,
   "metadata": {},
   "outputs": [],
   "source": [
    "d.measure()"
   ]
  },
  {
   "cell_type": "code",
   "execution_count": 65,
   "metadata": {},
   "outputs": [
    {
     "name": "stdout",
     "output_type": "stream",
     "text": [
      "25.0\r\n"
     ]
    }
   ],
   "source": [
    "temp = '{:.1f}'.format(d.temperature())\n",
    "print (temp)"
   ]
  },
  {
   "cell_type": "code",
   "execution_count": 66,
   "metadata": {},
   "outputs": [
    {
     "name": "stdout",
     "output_type": "stream",
     "text": [
      "18.0\r\n"
     ]
    }
   ],
   "source": [
    "hmdty = '{:.1f}'.format(d.humidity() )\n",
    "print (hmdty)"
   ]
  },
  {
   "cell_type": "code",
   "execution_count": 67,
   "metadata": {},
   "outputs": [],
   "source": [
    "oled.fill(0) \n",
    "oled.text('T:', 0, 20)\n",
    "oled.text(temp ,20,20)                         \n",
    "oled.text('H:', 0, 40)\n",
    "oled.text(hmdty ,20,40)                       \n",
    "oled.show()        "
   ]
  },
  {
   "cell_type": "markdown",
   "metadata": {},
   "source": [
    "## LED Neopixel\n",
    "\n",
    "São LEDs RGBs endereçaveis que podem ser controlados individualmente com apenas um pinos do microcontrolador.\n",
    "\n",
    "![Neopixel](https://i.pinimg.com/originals/4b/d3/f3/4bd3f3a46574eebc0f07c7b6067dcec4.gif)"
   ]
  },
  {
   "cell_type": "code",
   "execution_count": 68,
   "metadata": {},
   "outputs": [],
   "source": [
    "from neopixel import NeoPixel"
   ]
  },
  {
   "cell_type": "code",
   "execution_count": 69,
   "metadata": {},
   "outputs": [],
   "source": [
    "pin = Pin(0, Pin.OUT)                           # set GPIO0 to output to drive NeoPixels\n",
    "np = NeoPixel(pin, 6)                           # create NeoPixel driver on GPIO0 for 6 pixels"
   ]
  },
  {
   "cell_type": "code",
   "execution_count": 74,
   "metadata": {},
   "outputs": [],
   "source": [
    "np[1] = (100,128, 50)     #Set LED color         \n",
    "np.write()              # write data to all pixels"
   ]
  },
  {
   "cell_type": "code",
   "execution_count": 77,
   "metadata": {},
   "outputs": [],
   "source": [
    "for x in range(0, 6):\n",
    "    np[x] = (0,0, 255)      # set pixel color\n",
    "    np.write()              # write data to all pixels\n",
    "    sleep(0.2)              #delay"
   ]
  },
  {
   "cell_type": "code",
   "execution_count": 78,
   "metadata": {},
   "outputs": [
    {
     "name": "stdout",
     "output_type": "stream",
     "text": [
      "."
     ]
    }
   ],
   "source": [
    "for x in range(5, -1,-1):\n",
    "    np[x] = (0,0, 0)        # apaga pixels\n",
    "    np.write()              # escreve valor nos leds\n",
    "    sleep(0.2)              #delay    "
   ]
  },
  {
   "cell_type": "markdown",
   "metadata": {},
   "source": [
    "# Programando a placa\n",
    "\n",
    "É necessário o [Ampy -  Adafruit MicroPython Tool](https://github.com/pycampers/ampy)\n",
    "\n",
    "\n",
    "Instalação: `sudo pip3 install adafruit-ampy`\n",
    "\n",
    "Listando arquivos: `ampy --port /dev/ttyUSB0 ls`\n",
    "\n",
    "Variável de Ambiente para porta: `export AMPY_PORT=/dev/ttyUSB0 `\n",
    "\n",
    "Listar arquivos sem passar porta: `ampy ls`\n",
    "\n",
    "Ler arquivo na placa: `ampy get boot.py`\n",
    "\n",
    "Enviar arquivo para a placa: `ampy put main.py`\n",
    "\n",
    "Remover arquivo da placa: `ampy rm main.py`\n",
    "\n",
    "Executar arquivo: `ampy run blink.py`\n",
    "\n",
    "\n",
    "help `ampy --help`"
   ]
  },
  {
   "cell_type": "markdown",
   "metadata": {},
   "source": [
    "# Referências\n",
    "\n",
    "- [MicroPython documentation](http://docs.micropython.org/en/latest/index.html)\n",
    "- [Firmware Download](https://micropython.org/download#esp8266)\n",
    "- [Quick reference for the ESP8266](http://docs.micropython.org/en/latest/esp8266/quickref.html)\n",
    "- [Welcome to Micropython on ESP8266 Workshop’s documentation!](https://micropython-on-esp8266-workshop.readthedocs.io/en/latest/index.html)\n",
    "- [Welcome to Micropython on ESP8266 Workshop’s documentation!](https://micropython-on-wemos-d1-mini.readthedocs.io/en/latest/index.html)\n",
    "- [MicroPython Basics: Load Files & Run Code](https://cdn-learn.adafruit.com/downloads/pdf/micropython-basics-load-files-and-run-code.pdf)\n",
    "- [MicroPython Sublime Text Plugin](https://github.com/gepd/uPiotMicroPythonTool)\n",
    "- [Micropython IDE for VSCode](https://marketplace.visualstudio.com/items?itemName=dphans.micropython-ide-vscode)\n",
    "- [Jupyter MicroPython Kernel](https://github.com/goatchurchprime/jupyter_micropython_kernel)\n",
    "\n",
    "\n",
    "\n",
    "\n",
    "### Artigos que escrevi:\n",
    "\n",
    "Primeiros passos com MicroPython no ESP8266\n",
    "- [Primeiros passos com MicroPython no ESP8266](https://www.embarcados.com.br/micropython-no-esp8266/)\n",
    "- [Placa de testes para MicroPython com ESP8266](https://www.embarcados.com.br/placa-de-testes-para-micropython-com-esp8266/)\n",
    "- [Entradas e Saídas digitais no MicroPython com ESP8266](https://www.embarcados.com.br/entradas-e-saidas-digitais-micropython-esp8266/)\n",
    "- [Entrada analógica com MicroPython no ESP8266](https://www.embarcados.com.br/entrada-analogica-com-micropython-no-esp8266/)\n",
    "\n",
    "Programe a BBC micro:bit com MicroPython - Hello World!\n",
    "- [Programe a BBC micro:bit com MicroPython - Hello World!](https://www.embarcados.com.br/bbc-microbit-com-micropython-hello-world/)\n",
    "- [Programe a micro:bit com o Mu](https://www.embarcados.com.br/programe-a-microbit-com-o-mu/)\n",
    "- [Enviando comandos em tempo real para a micro:bit com o REPL](https://www.embarcados.com.br/comandos-para-a-microbit-com-o-repl/)\n",
    "- [Acionando a matriz de LEDs da micro:bit com MicroPython](https://www.embarcados.com.br/matriz-de-leds-da-microbit-com-micropython/)\n",
    "- [Leitura dos botões da Micro:bit com MicroPython](https://www.embarcados.com.br/leitura-dos-botoes-da-microbit-com-micropython/)\n",
    "\n"
   ]
  },
  {
   "cell_type": "code",
   "execution_count": null,
   "metadata": {},
   "outputs": [],
   "source": []
  }
 ],
 "metadata": {
  "kernelspec": {
   "display_name": "MicroPython - USB",
   "language": "micropython",
   "name": "micropython"
  },
  "language_info": {
   "codemirror_mode": "python",
   "file_extension": ".py",
   "mimetype": "text/python",
   "name": "micropython"
  }
 },
 "nbformat": 4,
 "nbformat_minor": 2
}
